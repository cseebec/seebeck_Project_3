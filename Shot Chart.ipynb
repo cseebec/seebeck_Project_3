{
 "cells": [
  {
   "cell_type": "code",
   "execution_count": 1,
   "id": "4661d3cc-5960-49de-ad1b-059a965adfb0",
   "metadata": {},
   "outputs": [],
   "source": [
    "# Import Dependencies\n",
    "from bs4 import BeautifulSoup\n",
    "import requests\n",
    "from splinter import Browser\n",
    "from webdriver_manager.chrome import ChromeDriverManager\n",
    "import pandas as pd\n",
    "import json\n",
    "\n",
    "#I am using nba api which is a python library created for analyzing NBA stats\n",
    "from nba_api.stats.static import players\n",
    "from nba_api.stats.static import teams\n",
    "from nba_api.stats.endpoints import shotchartdetail\n",
    "from nba_api.stats.endpoints import commonplayerinfo"
   ]
  },
  {
   "cell_type": "code",
   "execution_count": 2,
   "id": "8b06f582-edaa-4306-a92a-91e167a642ae",
   "metadata": {},
   "outputs": [
    {
     "name": "stderr",
     "output_type": "stream",
     "text": [
      "\n",
      "\n",
      "====== WebDriver manager ======\n",
      "Current google-chrome version is 94.0.4606\n",
      "Get LATEST driver version for 94.0.4606\n",
      "Driver [C:\\Users\\Collin\\.wdm\\drivers\\chromedriver\\win32\\94.0.4606.61\\chromedriver.exe] found in cache\n"
     ]
    }
   ],
   "source": [
    "# Open up google chrome in a web browser\n",
    "executable_path = {'executable_path': ChromeDriverManager().install()}\n",
    "browser = Browser('chrome', **executable_path, headless=False)"
   ]
  },
  {
   "cell_type": "markdown",
   "id": "6cb52d86-c7b7-4f92-a35c-fc39ce86a208",
   "metadata": {},
   "source": [
    "## Web Scrape Top 20 Players for highest Total Career 3 Pointers Made"
   ]
  },
  {
   "cell_type": "code",
   "execution_count": 3,
   "id": "f4f2163c-427d-49e0-857c-b84b17ed1a17",
   "metadata": {},
   "outputs": [],
   "source": [
    "# Go to Basketball Stats website on the google chrome web browser\n",
    "url = 'https://www.nba.com/stats/alltime-leaders/?SeasonType=Regular%20Season&StatCategory=FG3M'\n",
    "browser.visit(url)"
   ]
  },
  {
   "cell_type": "code",
   "execution_count": 4,
   "id": "0de5b1a6-7bf4-4df4-b59a-94a4bf6b5cab",
   "metadata": {},
   "outputs": [],
   "source": [
    "#Initiate beatiful soup for this site\n",
    "html = browser.html\n",
    "bball_soup = BeautifulSoup(html, 'html.parser')"
   ]
  },
  {
   "cell_type": "code",
   "execution_count": 5,
   "id": "5237becc-0a73-4906-855f-cdbb4d364ebf",
   "metadata": {},
   "outputs": [
    {
     "data": {
      "text/html": [
       "<div>\n",
       "<style scoped>\n",
       "    .dataframe tbody tr th:only-of-type {\n",
       "        vertical-align: middle;\n",
       "    }\n",
       "\n",
       "    .dataframe tbody tr th {\n",
       "        vertical-align: top;\n",
       "    }\n",
       "\n",
       "    .dataframe thead th {\n",
       "        text-align: right;\n",
       "    }\n",
       "</style>\n",
       "<table border=\"1\" class=\"dataframe\">\n",
       "  <thead>\n",
       "    <tr style=\"text-align: right;\">\n",
       "      <th></th>\n",
       "      <th>Player Name</th>\n",
       "      <th>Games Played</th>\n",
       "      <th>Minutes Played</th>\n",
       "      <th>3 Pointers Made</th>\n",
       "      <th>3 Pointers Attempted</th>\n",
       "      <th>3 Point %</th>\n",
       "      <th>Active?</th>\n",
       "      <th>3PM Rank</th>\n",
       "      <th>3P% Rank</th>\n",
       "    </tr>\n",
       "  </thead>\n",
       "  <tbody>\n",
       "  </tbody>\n",
       "</table>\n",
       "</div>"
      ],
      "text/plain": [
       "Empty DataFrame\n",
       "Columns: [Player Name, Games Played, Minutes Played, 3 Pointers Made, 3 Pointers Attempted, 3 Point %, Active?, 3PM Rank, 3P% Rank]\n",
       "Index: []"
      ]
     },
     "execution_count": 5,
     "metadata": {},
     "output_type": "execute_result"
    }
   ],
   "source": [
    "#Create dataframe and list to hold information\n",
    "sharpshooter_df = pd.DataFrame(columns=['Player Name', 'Games Played','Minutes Played','3 Pointers Made', '3 Pointers Attempted', '3 Point %','Active?','3PM Rank','3P% Rank'])\n",
    "sharpshooter_name = []\n",
    "sharpshooter_df.head()"
   ]
  },
  {
   "cell_type": "code",
   "execution_count": 6,
   "id": "6193e668-d069-4a12-905b-285be5acb367",
   "metadata": {},
   "outputs": [
    {
     "name": "stdout",
     "output_type": "stream",
     "text": [
      "{'id': 201142, 'full_name': 'Kevin Durant', 'first_name': 'Kevin', 'last_name': 'Durant', 'is_active': True}\n"
     ]
    }
   ],
   "source": [
    "# Read in information for all players from nba api\n",
    "all_players = players.get_players()\n",
    "print(all_players[1081])"
   ]
  },
  {
   "cell_type": "code",
   "execution_count": 7,
   "id": "4993c532-4ebf-45a8-97dc-f5983a9838a3",
   "metadata": {},
   "outputs": [],
   "source": [
    "#Define function to find if player is active from player name\n",
    "def get_player_active(player_full_name):\n",
    "    for player in all_players:\n",
    "        if player_full_name.lower() == player['full_name'].lower():\n",
    "            return player['is_active']"
   ]
  },
  {
   "cell_type": "code",
   "execution_count": 8,
   "id": "93d536ed-ff44-49ce-ab83-07743c278276",
   "metadata": {},
   "outputs": [],
   "source": [
    "# Find the Top 20 basketball players with the most made 3PMs\n",
    "y=0\n",
    "for i in range(0, 20):\n",
    "    x = str(i)\n",
    "    player_leaders = bball_soup.find('tr', index=x)\n",
    "    stats1 = player_leaders.find_all('td')\n",
    "    Min = stats1[3].text.split('\\n')[1]\n",
    "    y+=1\n",
    "    sharpshooter_dict = {\n",
    "        'Player Name': player_leaders.find('a').text,\n",
    "        'Games Played': stats1[2].text,\n",
    "        'Minutes Played': Min,\n",
    "        '3 Pointers Made': stats1[8].text,\n",
    "        '3 Pointers Attempted': stats1[9].text,\n",
    "        '3 Point %': float(stats1[10].text)/100,\n",
    "        'Active?': get_player_active(player_leaders.find('a').text),\n",
    "        '3PM Rank': y,\n",
    "        '3P% Rank': ''\n",
    "        }\n",
    "    sharpshooter_name.append(player_leaders.find('a').text)\n",
    "    sharpshooter_df = sharpshooter_df.append(sharpshooter_dict, ignore_index = True)"
   ]
  },
  {
   "cell_type": "code",
   "execution_count": 9,
   "id": "be941636-efeb-40f6-adae-51e4a86a2fdf",
   "metadata": {},
   "outputs": [
    {
     "data": {
      "text/html": [
       "<div>\n",
       "<style scoped>\n",
       "    .dataframe tbody tr th:only-of-type {\n",
       "        vertical-align: middle;\n",
       "    }\n",
       "\n",
       "    .dataframe tbody tr th {\n",
       "        vertical-align: top;\n",
       "    }\n",
       "\n",
       "    .dataframe thead th {\n",
       "        text-align: right;\n",
       "    }\n",
       "</style>\n",
       "<table border=\"1\" class=\"dataframe\">\n",
       "  <thead>\n",
       "    <tr style=\"text-align: right;\">\n",
       "      <th></th>\n",
       "      <th>Player Name</th>\n",
       "      <th>Games Played</th>\n",
       "      <th>Minutes Played</th>\n",
       "      <th>3 Pointers Made</th>\n",
       "      <th>3 Pointers Attempted</th>\n",
       "      <th>3 Point %</th>\n",
       "      <th>Active?</th>\n",
       "      <th>3PM Rank</th>\n",
       "      <th>3P% Rank</th>\n",
       "    </tr>\n",
       "  </thead>\n",
       "  <tbody>\n",
       "    <tr>\n",
       "      <th>0</th>\n",
       "      <td>Ray Allen</td>\n",
       "      <td>1,300</td>\n",
       "      <td>46350</td>\n",
       "      <td>2973</td>\n",
       "      <td>7429</td>\n",
       "      <td>0.400</td>\n",
       "      <td>False</td>\n",
       "      <td>1</td>\n",
       "      <td></td>\n",
       "    </tr>\n",
       "    <tr>\n",
       "      <th>1</th>\n",
       "      <td>Stephen Curry</td>\n",
       "      <td>762</td>\n",
       "      <td>26151</td>\n",
       "      <td>2832</td>\n",
       "      <td>6540</td>\n",
       "      <td>0.433</td>\n",
       "      <td>True</td>\n",
       "      <td>2</td>\n",
       "      <td></td>\n",
       "    </tr>\n",
       "    <tr>\n",
       "      <th>2</th>\n",
       "      <td>Reggie Miller</td>\n",
       "      <td>1,389</td>\n",
       "      <td>47620</td>\n",
       "      <td>2560</td>\n",
       "      <td>6486</td>\n",
       "      <td>0.395</td>\n",
       "      <td>False</td>\n",
       "      <td>3</td>\n",
       "      <td></td>\n",
       "    </tr>\n",
       "    <tr>\n",
       "      <th>3</th>\n",
       "      <td>Kyle Korver</td>\n",
       "      <td>1,232</td>\n",
       "      <td>31183</td>\n",
       "      <td>2450</td>\n",
       "      <td>5715</td>\n",
       "      <td>0.429</td>\n",
       "      <td>True</td>\n",
       "      <td>4</td>\n",
       "      <td></td>\n",
       "    </tr>\n",
       "    <tr>\n",
       "      <th>4</th>\n",
       "      <td>James Harden</td>\n",
       "      <td>877</td>\n",
       "      <td>30198</td>\n",
       "      <td>2445</td>\n",
       "      <td>6728</td>\n",
       "      <td>0.363</td>\n",
       "      <td>True</td>\n",
       "      <td>5</td>\n",
       "      <td></td>\n",
       "    </tr>\n",
       "  </tbody>\n",
       "</table>\n",
       "</div>"
      ],
      "text/plain": [
       "     Player Name Games Played     Minutes Played 3 Pointers Made  \\\n",
       "0      Ray Allen        1,300              46350            2973   \n",
       "1  Stephen Curry          762              26151            2832   \n",
       "2  Reggie Miller        1,389              47620            2560   \n",
       "3    Kyle Korver        1,232              31183            2450   \n",
       "4   James Harden          877              30198            2445   \n",
       "\n",
       "  3 Pointers Attempted  3 Point % Active? 3PM Rank 3P% Rank  \n",
       "0                 7429      0.400   False        1           \n",
       "1                 6540      0.433    True        2           \n",
       "2                 6486      0.395   False        3           \n",
       "3                 5715      0.429    True        4           \n",
       "4                 6728      0.363    True        5           "
      ]
     },
     "execution_count": 9,
     "metadata": {},
     "output_type": "execute_result"
    }
   ],
   "source": [
    "sharpshooter_df.head()"
   ]
  },
  {
   "cell_type": "code",
   "execution_count": 10,
   "id": "cdd8406a-f1ef-420d-acef-28f73a4c37eb",
   "metadata": {},
   "outputs": [],
   "source": [
    "# Correct the dataset and change Vince Carter's Active Status to Retired\n",
    "sharpshooter_df.iloc[5,6]=False\n",
    "#sharpshooter_df.head(10)"
   ]
  },
  {
   "cell_type": "code",
   "execution_count": 11,
   "id": "30c4efed-b487-40e6-ade4-fab56449fbf7",
   "metadata": {},
   "outputs": [],
   "source": [
    "#Write dataframe out to CSV file\n",
    "sharpshooter_df.to_csv(\"sharpshooter.csv\", index=False, header=True)"
   ]
  },
  {
   "cell_type": "markdown",
   "id": "4c140c75-4890-4268-82f2-da3d1f03529e",
   "metadata": {},
   "source": [
    "## Pull Data for All Time Leaders in 3 Pointers Made Per Game"
   ]
  },
  {
   "cell_type": "code",
   "execution_count": 12,
   "id": "3fb6e4b6-d3ef-4f3f-a9ed-e1be611914c7",
   "metadata": {},
   "outputs": [],
   "source": [
    "# Go to page with leaders in all time 3PM per Game\n",
    "url = 'https://www.landofbasketball.com/all_time_leaders/3_pointers_per_game_career_season.htm'\n",
    "browser.visit(url)\n",
    "#Initiate beatiful soup for this site\n",
    "html = browser.html\n",
    "bball_soup = BeautifulSoup(html, 'html.parser')"
   ]
  },
  {
   "cell_type": "markdown",
   "id": "b031a90a-2856-460c-b1f2-fdf25f8ed558",
   "metadata": {},
   "source": [
    "This url list includes players with a minimum of 400 games or 600 3-pointers made."
   ]
  },
  {
   "cell_type": "code",
   "execution_count": 13,
   "id": "057da48d-7e0c-44ca-b812-9b24b9d4e986",
   "metadata": {},
   "outputs": [],
   "source": [
    "per_game_df = pd.DataFrame(columns=['Player Name', 'Career 3PM per Game','Active'])\n",
    "#Find players with highest all time 3PM per game\n",
    "top_player_code = bball_soup.find_all(\"tr\", {\"class\": \"a-top\"})\n",
    "top_10=0\n",
    "for i in top_player_code:\n",
    "    top_10+=1\n",
    "    if top_10==11:\n",
    "        break\n",
    "    else:\n",
    "        leader_dict = {\n",
    "            \"Player Name\": i.a.text,\n",
    "            \"Career 3PM per Game\": i.b.text,\n",
    "            \"Active\": get_player_active(i.a.text)\n",
    "        }\n",
    "        per_game_df = per_game_df.append(leader_dict, ignore_index = True) "
   ]
  },
  {
   "cell_type": "code",
   "execution_count": 14,
   "id": "25467a3b-0522-412c-910c-a9b1818f2232",
   "metadata": {},
   "outputs": [
    {
     "data": {
      "text/html": [
       "<div>\n",
       "<style scoped>\n",
       "    .dataframe tbody tr th:only-of-type {\n",
       "        vertical-align: middle;\n",
       "    }\n",
       "\n",
       "    .dataframe tbody tr th {\n",
       "        vertical-align: top;\n",
       "    }\n",
       "\n",
       "    .dataframe thead th {\n",
       "        text-align: right;\n",
       "    }\n",
       "</style>\n",
       "<table border=\"1\" class=\"dataframe\">\n",
       "  <thead>\n",
       "    <tr style=\"text-align: right;\">\n",
       "      <th></th>\n",
       "      <th>Player Name</th>\n",
       "      <th>Career 3PM per Game</th>\n",
       "      <th>Active</th>\n",
       "    </tr>\n",
       "  </thead>\n",
       "  <tbody>\n",
       "    <tr>\n",
       "      <th>0</th>\n",
       "      <td>Stephen Curry</td>\n",
       "      <td>3.72</td>\n",
       "      <td>True</td>\n",
       "    </tr>\n",
       "    <tr>\n",
       "      <th>1</th>\n",
       "      <td>Damian Lillard</td>\n",
       "      <td>3.01</td>\n",
       "      <td>True</td>\n",
       "    </tr>\n",
       "    <tr>\n",
       "      <th>2</th>\n",
       "      <td>Buddy Hield</td>\n",
       "      <td>2.98</td>\n",
       "      <td>True</td>\n",
       "    </tr>\n",
       "    <tr>\n",
       "      <th>3</th>\n",
       "      <td>Klay Thompson</td>\n",
       "      <td>2.92</td>\n",
       "      <td>True</td>\n",
       "    </tr>\n",
       "    <tr>\n",
       "      <th>4</th>\n",
       "      <td>James Harden</td>\n",
       "      <td>2.79</td>\n",
       "      <td>True</td>\n",
       "    </tr>\n",
       "    <tr>\n",
       "      <th>5</th>\n",
       "      <td>Donovan Mitchell</td>\n",
       "      <td>2.61</td>\n",
       "      <td>True</td>\n",
       "    </tr>\n",
       "    <tr>\n",
       "      <th>6</th>\n",
       "      <td>Paul George</td>\n",
       "      <td>2.49</td>\n",
       "      <td>True</td>\n",
       "    </tr>\n",
       "    <tr>\n",
       "      <th>7</th>\n",
       "      <td>D'Angelo Russell</td>\n",
       "      <td>2.42</td>\n",
       "      <td>True</td>\n",
       "    </tr>\n",
       "    <tr>\n",
       "      <th>8</th>\n",
       "      <td>Eric Gordon</td>\n",
       "      <td>2.34</td>\n",
       "      <td>True</td>\n",
       "    </tr>\n",
       "    <tr>\n",
       "      <th>9</th>\n",
       "      <td>Ray Allen</td>\n",
       "      <td>2.29</td>\n",
       "      <td>False</td>\n",
       "    </tr>\n",
       "  </tbody>\n",
       "</table>\n",
       "</div>"
      ],
      "text/plain": [
       "        Player Name Career 3PM per Game Active\n",
       "0     Stephen Curry                3.72   True\n",
       "1    Damian Lillard                3.01   True\n",
       "2       Buddy Hield                2.98   True\n",
       "3     Klay Thompson                2.92   True\n",
       "4      James Harden                2.79   True\n",
       "5  Donovan Mitchell                2.61   True\n",
       "6       Paul George                2.49   True\n",
       "7  D'Angelo Russell                2.42   True\n",
       "8       Eric Gordon                2.34   True\n",
       "9         Ray Allen                2.29  False"
      ]
     },
     "execution_count": 14,
     "metadata": {},
     "output_type": "execute_result"
    }
   ],
   "source": [
    "per_game_df.head(10)"
   ]
  },
  {
   "cell_type": "code",
   "execution_count": 15,
   "id": "7b334a1b-07a7-4b5a-9aef-cbdbee54cf0d",
   "metadata": {},
   "outputs": [],
   "source": [
    "#Write dataframe out to CSV file\n",
    "per_game_df.to_csv(\"per_game.csv\", index=False, header=True)"
   ]
  },
  {
   "cell_type": "markdown",
   "id": "e5bb21f6-ea31-46cc-833d-512c57b2d949",
   "metadata": {},
   "source": [
    "## Pull Data For Top Players 3PM per Game"
   ]
  },
  {
   "cell_type": "code",
   "execution_count": 16,
   "id": "082aa533-720f-413f-ae40-696d138720b8",
   "metadata": {},
   "outputs": [],
   "source": [
    "# I manually looped through the top 10 players"
   ]
  },
  {
   "cell_type": "code",
   "execution_count": 17,
   "id": "c430d7fd-5dac-43a2-b5f8-78fad946a50a",
   "metadata": {},
   "outputs": [],
   "source": [
    "#Define function to find player id from player name\n",
    "def get_player_id(player_full_name):\n",
    "    for player in all_players:\n",
    "        if player_full_name.lower() == player['full_name'].lower():\n",
    "            return player['id']"
   ]
  },
  {
   "cell_type": "code",
   "execution_count": 18,
   "id": "da8dfbfd-9171-4c3c-88c7-1905f4c2d6fb",
   "metadata": {},
   "outputs": [],
   "source": [
    "player_url = \"https://www.nba.com/stats/player/\" + str(get_player_id(\"Ray Allen\")) + \"/career/?PerMode=Totals\"\n",
    "url = player_url\n",
    "browser.visit(url)\n",
    "html = browser.html\n",
    "bball_soup = BeautifulSoup(html, 'html.parser')\n",
    "    \n",
    "each_df = pd.DataFrame(columns=['Season Made Up', 'Season', 'Games Played','Season 3PM','Season 3PA', 'Season 3P %', 'Total 3PM'])"
   ]
  },
  {
   "cell_type": "code",
   "execution_count": 19,
   "id": "c10a9546-3c3e-489d-900c-410371e4e279",
   "metadata": {},
   "outputs": [],
   "source": [
    "for i in range(0,100):\n",
    "        try:\n",
    "            x = str(i)\n",
    "            player_leaders = bball_soup.find('tr', index=x)\n",
    "            stats1 = player_leaders.find_all('td')\n",
    "            allen_dict = {\n",
    "                'Season Made Up': '',\n",
    "                'Season': player_leaders.find('a').text,\n",
    "                'Games Played': stats1[3].text,\n",
    "                'Season 3PM': stats1[10].text,\n",
    "                'Season 3PA': stats1[11].text,\n",
    "                'Season 3P %': stats1[12].text,\n",
    "                'Total 3PM': ''\n",
    "            }\n",
    "            each_df = each_df.append(allen_dict, ignore_index = True)\n",
    "        except AttributeError:\n",
    "            break"
   ]
  },
  {
   "cell_type": "code",
   "execution_count": 20,
   "id": "9466ffce-6127-4abb-b790-9c5a42625bf7",
   "metadata": {},
   "outputs": [
    {
     "data": {
      "text/html": [
       "<div>\n",
       "<style scoped>\n",
       "    .dataframe tbody tr th:only-of-type {\n",
       "        vertical-align: middle;\n",
       "    }\n",
       "\n",
       "    .dataframe tbody tr th {\n",
       "        vertical-align: top;\n",
       "    }\n",
       "\n",
       "    .dataframe thead th {\n",
       "        text-align: right;\n",
       "    }\n",
       "</style>\n",
       "<table border=\"1\" class=\"dataframe\">\n",
       "  <thead>\n",
       "    <tr style=\"text-align: right;\">\n",
       "      <th></th>\n",
       "      <th>Season Made Up</th>\n",
       "      <th>Season</th>\n",
       "      <th>Games Played</th>\n",
       "      <th>Season 3PM</th>\n",
       "      <th>Season 3PA</th>\n",
       "      <th>Season 3P %</th>\n",
       "      <th>Total 3PM</th>\n",
       "    </tr>\n",
       "  </thead>\n",
       "  <tbody>\n",
       "    <tr>\n",
       "      <th>19</th>\n",
       "      <td>2000</td>\n",
       "      <td>1996-97</td>\n",
       "      <td>82</td>\n",
       "      <td>117</td>\n",
       "      <td>298</td>\n",
       "      <td>39.3</td>\n",
       "      <td>117</td>\n",
       "    </tr>\n",
       "    <tr>\n",
       "      <th>18</th>\n",
       "      <td>2001</td>\n",
       "      <td>1997-98</td>\n",
       "      <td>82</td>\n",
       "      <td>134</td>\n",
       "      <td>368</td>\n",
       "      <td>36.4</td>\n",
       "      <td>251</td>\n",
       "    </tr>\n",
       "    <tr>\n",
       "      <th>17</th>\n",
       "      <td>2002</td>\n",
       "      <td>1998-99</td>\n",
       "      <td>50</td>\n",
       "      <td>74</td>\n",
       "      <td>208</td>\n",
       "      <td>35.6</td>\n",
       "      <td>325</td>\n",
       "    </tr>\n",
       "    <tr>\n",
       "      <th>16</th>\n",
       "      <td>2003</td>\n",
       "      <td>1999-00</td>\n",
       "      <td>82</td>\n",
       "      <td>172</td>\n",
       "      <td>407</td>\n",
       "      <td>42.3</td>\n",
       "      <td>497</td>\n",
       "    </tr>\n",
       "    <tr>\n",
       "      <th>15</th>\n",
       "      <td>2004</td>\n",
       "      <td>2000-01</td>\n",
       "      <td>82</td>\n",
       "      <td>202</td>\n",
       "      <td>467</td>\n",
       "      <td>43.3</td>\n",
       "      <td>699</td>\n",
       "    </tr>\n",
       "  </tbody>\n",
       "</table>\n",
       "</div>"
      ],
      "text/plain": [
       "   Season Made Up   Season Games Played Season 3PM Season 3PA Season 3P %  \\\n",
       "19           2000  1996-97           82        117        298        39.3   \n",
       "18           2001  1997-98           82        134        368        36.4   \n",
       "17           2002  1998-99           50         74        208        35.6   \n",
       "16           2003  1999-00           82        172        407        42.3   \n",
       "15           2004  2000-01           82        202        467        43.3   \n",
       "\n",
       "   Total 3PM  \n",
       "19       117  \n",
       "18       251  \n",
       "17       325  \n",
       "16       497  \n",
       "15       699  "
      ]
     },
     "execution_count": 20,
     "metadata": {},
     "output_type": "execute_result"
    }
   ],
   "source": [
    "#Calculate Total 3PM by season\n",
    "each_df = each_df.sort_values(by=['Season'])\n",
    "total_3PM = 0\n",
    "season = 2000\n",
    "for i in range(len(each_df)):\n",
    "    total_3PM+=int(each_df.iloc[i,3])\n",
    "    each_df.iloc[i,6] = total_3PM\n",
    "    each_df.iloc[i,0] = season\n",
    "    season +=1\n",
    "each_df.head()"
   ]
  },
  {
   "cell_type": "code",
   "execution_count": 21,
   "id": "e4aaf54e-1a92-44c4-8de5-11756bc8bd29",
   "metadata": {},
   "outputs": [],
   "source": [
    "#Write dataframe out to CSV file\n",
    "each_df.to_csv(\"Allen.csv\", index=False, header=True)"
   ]
  },
  {
   "cell_type": "markdown",
   "id": "2c3b27e1-1d42-4c2d-977e-c9bfa2b99529",
   "metadata": {},
   "source": [
    "## Pull Data for 3PM and 3PA per Game per Season"
   ]
  },
  {
   "cell_type": "code",
   "execution_count": 22,
   "id": "c67839a3-4534-4399-89bf-d228468a97a1",
   "metadata": {},
   "outputs": [],
   "source": [
    "# Go to basketball reference for stats by season\n",
    "url = \"https://www.basketball-reference.com/leagues/NBA_stats_per_game.html\"\n",
    "browser.visit(url)"
   ]
  },
  {
   "cell_type": "code",
   "execution_count": 23,
   "id": "86472a0f-92a7-4a51-b28a-119bfb78011e",
   "metadata": {},
   "outputs": [],
   "source": [
    "#Initiate beatiful soup for this site\n",
    "html = browser.html\n",
    "bball_soup = BeautifulSoup(html, 'html.parser')"
   ]
  },
  {
   "cell_type": "code",
   "execution_count": 24,
   "id": "e4591b49-20ee-4d57-904a-a1905140968f",
   "metadata": {},
   "outputs": [
    {
     "data": {
      "text/html": [
       "<div>\n",
       "<style scoped>\n",
       "    .dataframe tbody tr th:only-of-type {\n",
       "        vertical-align: middle;\n",
       "    }\n",
       "\n",
       "    .dataframe tbody tr th {\n",
       "        vertical-align: top;\n",
       "    }\n",
       "\n",
       "    .dataframe thead th {\n",
       "        text-align: right;\n",
       "    }\n",
       "</style>\n",
       "<table border=\"1\" class=\"dataframe\">\n",
       "  <thead>\n",
       "    <tr style=\"text-align: right;\">\n",
       "      <th></th>\n",
       "      <th>Season</th>\n",
       "      <th>Season 3PM per Game</th>\n",
       "      <th>Season 3PA per Game</th>\n",
       "      <th>Average 3P%</th>\n",
       "    </tr>\n",
       "  </thead>\n",
       "  <tbody>\n",
       "  </tbody>\n",
       "</table>\n",
       "</div>"
      ],
      "text/plain": [
       "Empty DataFrame\n",
       "Columns: [Season, Season 3PM per Game, Season 3PA per Game, Average 3P%]\n",
       "Index: []"
      ]
     },
     "execution_count": 24,
     "metadata": {},
     "output_type": "execute_result"
    }
   ],
   "source": [
    "#Create dataframe and list to hold information\n",
    "season_3P_df = pd.DataFrame(columns=['Season', 'Season 3PM per Game','Season 3PA per Game','Average 3P%'])\n",
    "season_3P_df.head()"
   ]
  },
  {
   "cell_type": "code",
   "execution_count": 25,
   "id": "bc40ba10-4525-4219-841a-fc481affb67c",
   "metadata": {},
   "outputs": [
    {
     "name": "stdout",
     "output_type": "stream",
     "text": [
      "\n",
      "\n",
      "\n",
      "\n"
     ]
    }
   ],
   "source": [
    "#Using this range will given me data dating back to the 1979-1980 season which is when the 3 pointer was added\n",
    "for i in range(1,47):\n",
    "    # There are headers in certain rows in I try to read in these rows it will cause an error and stop the code\n",
    "    # So I will skip these rows\n",
    "    if i==20 or i==21 or i==42 or i==43:\n",
    "        print(\"\")\n",
    "    else:\n",
    "        x = str(i)\n",
    "        inputTag = bball_soup.find(attrs={\"data-row\" : x})\n",
    "        stats = inputTag.find_all('td')\n",
    "        season_dict = {\n",
    "            \"Season\": inputTag.a.text,\n",
    "            \"Season 3PM per Game\": stats[9].text,\n",
    "            \"Season 3PA per Game\": stats[10].text,\n",
    "            \"Average 3P%\": stats[23].text\n",
    "        }\n",
    "        season_3P_df = season_3P_df.append(season_dict, ignore_index = True)"
   ]
  },
  {
   "cell_type": "code",
   "execution_count": 26,
   "id": "2bec2208-1a48-4a4e-b201-1538de865186",
   "metadata": {},
   "outputs": [
    {
     "data": {
      "text/html": [
       "<div>\n",
       "<style scoped>\n",
       "    .dataframe tbody tr th:only-of-type {\n",
       "        vertical-align: middle;\n",
       "    }\n",
       "\n",
       "    .dataframe tbody tr th {\n",
       "        vertical-align: top;\n",
       "    }\n",
       "\n",
       "    .dataframe thead th {\n",
       "        text-align: right;\n",
       "    }\n",
       "</style>\n",
       "<table border=\"1\" class=\"dataframe\">\n",
       "  <thead>\n",
       "    <tr style=\"text-align: right;\">\n",
       "      <th></th>\n",
       "      <th>Season</th>\n",
       "      <th>Season 3PM per Game</th>\n",
       "      <th>Season 3PA per Game</th>\n",
       "      <th>Average 3P%</th>\n",
       "    </tr>\n",
       "  </thead>\n",
       "  <tbody>\n",
       "    <tr>\n",
       "      <th>0</th>\n",
       "      <td>2020-21</td>\n",
       "      <td>12.7</td>\n",
       "      <td>34.6</td>\n",
       "      <td>.367</td>\n",
       "    </tr>\n",
       "    <tr>\n",
       "      <th>1</th>\n",
       "      <td>2019-20</td>\n",
       "      <td>12.2</td>\n",
       "      <td>34.1</td>\n",
       "      <td>.358</td>\n",
       "    </tr>\n",
       "    <tr>\n",
       "      <th>2</th>\n",
       "      <td>2018-19</td>\n",
       "      <td>11.4</td>\n",
       "      <td>32.0</td>\n",
       "      <td>.355</td>\n",
       "    </tr>\n",
       "    <tr>\n",
       "      <th>3</th>\n",
       "      <td>2017-18</td>\n",
       "      <td>10.5</td>\n",
       "      <td>29.0</td>\n",
       "      <td>.362</td>\n",
       "    </tr>\n",
       "    <tr>\n",
       "      <th>4</th>\n",
       "      <td>2016-17</td>\n",
       "      <td>9.7</td>\n",
       "      <td>27.0</td>\n",
       "      <td>.358</td>\n",
       "    </tr>\n",
       "    <tr>\n",
       "      <th>5</th>\n",
       "      <td>2015-16</td>\n",
       "      <td>8.5</td>\n",
       "      <td>24.1</td>\n",
       "      <td>.354</td>\n",
       "    </tr>\n",
       "    <tr>\n",
       "      <th>6</th>\n",
       "      <td>2014-15</td>\n",
       "      <td>7.8</td>\n",
       "      <td>22.4</td>\n",
       "      <td>.350</td>\n",
       "    </tr>\n",
       "    <tr>\n",
       "      <th>7</th>\n",
       "      <td>2013-14</td>\n",
       "      <td>7.7</td>\n",
       "      <td>21.5</td>\n",
       "      <td>.360</td>\n",
       "    </tr>\n",
       "    <tr>\n",
       "      <th>8</th>\n",
       "      <td>2012-13</td>\n",
       "      <td>7.2</td>\n",
       "      <td>20.0</td>\n",
       "      <td>.359</td>\n",
       "    </tr>\n",
       "    <tr>\n",
       "      <th>9</th>\n",
       "      <td>2011-12</td>\n",
       "      <td>6.4</td>\n",
       "      <td>18.4</td>\n",
       "      <td>.349</td>\n",
       "    </tr>\n",
       "  </tbody>\n",
       "</table>\n",
       "</div>"
      ],
      "text/plain": [
       "    Season Season 3PM per Game Season 3PA per Game Average 3P%\n",
       "0  2020-21                12.7                34.6        .367\n",
       "1  2019-20                12.2                34.1        .358\n",
       "2  2018-19                11.4                32.0        .355\n",
       "3  2017-18                10.5                29.0        .362\n",
       "4  2016-17                 9.7                27.0        .358\n",
       "5  2015-16                 8.5                24.1        .354\n",
       "6  2014-15                 7.8                22.4        .350\n",
       "7  2013-14                 7.7                21.5        .360\n",
       "8  2012-13                 7.2                20.0        .359\n",
       "9  2011-12                 6.4                18.4        .349"
      ]
     },
     "execution_count": 26,
     "metadata": {},
     "output_type": "execute_result"
    }
   ],
   "source": [
    "season_3P_df.head(10)"
   ]
  },
  {
   "cell_type": "code",
   "execution_count": 27,
   "id": "a57e28aa-2beb-4b14-9dff-fcefe7afad87",
   "metadata": {},
   "outputs": [],
   "source": [
    "#Write dataframe out to CSV file\n",
    "season_3P_df.to_csv(\"season_totals.csv\", index=False, header=True)"
   ]
  },
  {
   "cell_type": "markdown",
   "id": "18a728d7-e0a1-4dce-9e4a-8aa75302cf4b",
   "metadata": {},
   "source": [
    "## Pull Data for All Time Leaders 3P%"
   ]
  },
  {
   "cell_type": "code",
   "execution_count": 28,
   "id": "fb727f02-4505-4fd9-9653-3f7fb7b27377",
   "metadata": {},
   "outputs": [],
   "source": [
    "# Go to page with leaders in all time 3P%\n",
    "url = 'https://www.nba.com/stats/alltime-leaders/?SeasonType=Regular%20Season&StatCategory=FG3_PCT'\n",
    "browser.visit(url)"
   ]
  },
  {
   "cell_type": "code",
   "execution_count": 29,
   "id": "c748011c-99cd-4912-8ead-61116ac06718",
   "metadata": {},
   "outputs": [],
   "source": [
    "#Initiate beatiful soup for this site\n",
    "html = browser.html\n",
    "bball_soup = BeautifulSoup(html, 'html.parser')"
   ]
  },
  {
   "cell_type": "code",
   "execution_count": 30,
   "id": "e14f166c-7cae-43d2-a7ed-01f746d478f0",
   "metadata": {},
   "outputs": [],
   "source": [
    "#Read in players with highest career 3P%\n",
    "for i in range(0, 20):\n",
    "    x = str(i)\n",
    "    player_leader = bball_soup.find('tr', index=x)\n",
    "    #Check in player is already in dataframe if he is do not add a duplicate\n",
    "    if player_leader.find('a').text in sharpshooter_name:\n",
    "        #If player already in dataframe add a Y to 3P% column to make it easier to filter\n",
    "        y=0\n",
    "        for x in sharpshooter_name:\n",
    "            y+=1\n",
    "            if x ==player_leader.find('a').text:\n",
    "                sharpshooter_df.iloc[y-1,8]=i+1\n",
    "    else:\n",
    "        stats1 = player_leader.find_all('td')\n",
    "        Min = stats1[3].text.split('\\n')[1]\n",
    "        \n",
    "        sharpshooter_dict = {\n",
    "            'Player Name': player_leader.find('a').text,\n",
    "            'Games Played': stats1[2].text,\n",
    "            'Minutes Played': Min,\n",
    "            '3 Pointers Made': stats1[8].text,\n",
    "            '3 Pointers Attempted': stats1[9].text,\n",
    "            '3 Point %': float(stats1[10].text)/100,\n",
    "            'Active?': get_player_active(player_leader.find('a').text),\n",
    "            '3PM Rank': '',\n",
    "            '3P% Rank': i+1\n",
    "        }\n",
    "        sharpshooter_name.append(player_leader.find('a').text)\n",
    "        sharpshooter_df = sharpshooter_df.append(sharpshooter_dict, ignore_index = True) "
   ]
  },
  {
   "cell_type": "code",
   "execution_count": 31,
   "id": "136149fc-e121-4aa7-a3d4-29e4597f9be9",
   "metadata": {},
   "outputs": [],
   "source": [
    "#sharpshooter_df.head(50)"
   ]
  },
  {
   "cell_type": "code",
   "execution_count": 32,
   "id": "bdb9908d-8af1-4fcd-88c0-3400ee19015b",
   "metadata": {},
   "outputs": [],
   "source": [
    "#Write dataframe out to CSV file\n",
    "sharpshooter_df.to_csv(\"sharpshooter.csv\", index=False, header=True)"
   ]
  },
  {
   "cell_type": "markdown",
   "id": "5aa94c77-5826-48fa-b3a2-13f8946b2556",
   "metadata": {},
   "source": [
    "## Get Shot Chart Data"
   ]
  },
  {
   "cell_type": "code",
   "execution_count": 33,
   "id": "755f476d-4af0-4289-8999-20fd35742148",
   "metadata": {},
   "outputs": [],
   "source": [
    "#Read in NBA Teams\n",
    "all_teams = teams.get_teams()\n",
    "#for team in all_teams:\n",
    "#    print(team)\n",
    "shot_df = pd.DataFrame()"
   ]
  },
  {
   "cell_type": "code",
   "execution_count": 34,
   "id": "85910640-1af8-4898-b933-3029874afeec",
   "metadata": {},
   "outputs": [],
   "source": [
    "#Define function to find player id from player name\n",
    "def get_player_id(player_full_name):\n",
    "    for player in all_players:\n",
    "        if player_full_name.lower() == player['full_name'].lower():\n",
    "            return player['id']"
   ]
  },
  {
   "cell_type": "code",
   "execution_count": 35,
   "id": "7a4f7732-1cec-4b50-8f79-0f64a8cc9f67",
   "metadata": {},
   "outputs": [],
   "source": [
    "def get_team_id(team_abbreviation):\n",
    "    for team in all_teams:\n",
    "        if team_abbreviation.lower() == team['abbreviation'].lower():\n",
    "            return team['id']"
   ]
  },
  {
   "cell_type": "code",
   "execution_count": 36,
   "id": "f8ea2167-b8c2-4690-8396-b23b0c01ea70",
   "metadata": {},
   "outputs": [
    {
     "name": "stdout",
     "output_type": "stream",
     "text": [
      "shaquille o'neal\n",
      "406\n"
     ]
    }
   ],
   "source": [
    "current_player = \"shaquille o'neal\"\n",
    "player_id = get_player_id(current_player)\n",
    "print(current_player)\n",
    "print(player_id)"
   ]
  },
  {
   "cell_type": "code",
   "execution_count": 37,
   "id": "bbf3ec30-c91b-4f90-9724-65f439691581",
   "metadata": {},
   "outputs": [
    {
     "name": "stdout",
     "output_type": "stream",
     "text": [
      "1610612747\n"
     ]
    }
   ],
   "source": [
    "team_id = get_team_id('LAL')\n",
    "print(team_id)"
   ]
  },
  {
   "cell_type": "code",
   "execution_count": 38,
   "id": "70158f90-47cb-425d-897f-2a9b81c2d305",
   "metadata": {},
   "outputs": [],
   "source": [
    "#Create a dataframe for shot chart details\n",
    "#shot_df = pd.DataFrame(columns=['GRID_TYPE', 'GAME_ID', 'GAME_EVENT_ID', 'PLAYER_ID', 'PLAYER_NAME', 'TEAM_ID', 'TEAM_NAME', 'PERIOD', 'MINUTES_REMAINING', 'SECONDS_REMAINING', 'EVENT_TYPE', 'ACTION_TYPE', 'SHOT_TYPE', 'SHOT_ZONE_BASIC', 'SHOT_ZONE_AREA', 'SHOT_ZONE_RANGE', 'SHOT_DISTANCE', 'LOC_X', 'LOC_Y', 'SHOT_ATTEMPTED_FLAG', 'SHOT_MADE_FLAG', 'GAME_DATE', 'HTM', 'VTM'])"
   ]
  },
  {
   "cell_type": "code",
   "execution_count": 39,
   "id": "84f8d24d-73b3-4d64-953b-88957eefe32c",
   "metadata": {},
   "outputs": [],
   "source": [
    "# Here I am going to pull down the shot chart data for a specific player while they were on a specific team\n",
    "shot_chart_json = shotchartdetail.ShotChartDetail(\n",
    "            team_id = team_id,\n",
    "            player_id = player_id,\n",
    "            context_measure_simple = 'FGA',\n",
    "            season_type_all_star = 'Regular Season')"
   ]
  },
  {
   "cell_type": "code",
   "execution_count": 40,
   "id": "abdfc4fa-8c88-4300-a641-2d32e27dbfd4",
   "metadata": {},
   "outputs": [
    {
     "name": "stdout",
     "output_type": "stream",
     "text": [
      "['GRID_TYPE', 'GAME_ID', 'GAME_EVENT_ID', 'PLAYER_ID', 'PLAYER_NAME', 'TEAM_ID', 'TEAM_NAME', 'PERIOD', 'MINUTES_REMAINING', 'SECONDS_REMAINING', 'EVENT_TYPE', 'ACTION_TYPE', 'SHOT_TYPE', 'SHOT_ZONE_BASIC', 'SHOT_ZONE_AREA', 'SHOT_ZONE_RANGE', 'SHOT_DISTANCE', 'LOC_X', 'LOC_Y', 'SHOT_ATTEMPTED_FLAG', 'SHOT_MADE_FLAG', 'GAME_DATE', 'HTM', 'VTM']\n"
     ]
    }
   ],
   "source": [
    "shot_chart_data = json.loads(shot_chart_json.get_json())\n",
    "# Extract just the useful information from the dictionary created\n",
    "useful_data = shot_chart_data['resultSets'][0]\n",
    "shot_dictionary = useful_data['rowSet']\n",
    "print(useful_data['headers'])\n",
    "#print(shot_dictionary[0])"
   ]
  },
  {
   "cell_type": "code",
   "execution_count": 41,
   "id": "804b324b-c057-4316-9b00-89ffe62a0ce9",
   "metadata": {},
   "outputs": [
    {
     "name": "stdout",
     "output_type": "stream",
     "text": [
      "9498\n"
     ]
    }
   ],
   "source": [
    "# Create a dataframe from the useful data \n",
    "shot_df = shot_df.append(shot_dictionary, ignore_index = True)\n",
    "print(len(shot_df))"
   ]
  },
  {
   "cell_type": "code",
   "execution_count": 42,
   "id": "87d15022-227a-46a2-8084-1907a0afba83",
   "metadata": {},
   "outputs": [],
   "source": [
    "#print(shot_df[0])"
   ]
  },
  {
   "cell_type": "code",
   "execution_count": 43,
   "id": "9ffd4c94-6425-47c9-a291-95358133e8e7",
   "metadata": {},
   "outputs": [],
   "source": [
    "#Write file out to CSV file\n",
    "shot_df.to_csv(\"shot_chart_attempt.csv\", index=False, header=True)"
   ]
  },
  {
   "cell_type": "markdown",
   "id": "0f3311c4-b9f8-4ff6-8cce-830554500709",
   "metadata": {},
   "source": [
    "## Code Not Used"
   ]
  },
  {
   "cell_type": "code",
   "execution_count": null,
   "id": "08a56c54-8b4d-4188-8d57-f900d2b4d45f",
   "metadata": {},
   "outputs": [],
   "source": [
    "#I am using nba api which is a python library created for analyzing NBA stats\n",
    "from nba_api.stats.static import players\n",
    "from nba_api.stats.static import teams\n",
    "from nba_api.stats.endpoints import shotchartdetail\n",
    "from nba_api.stats.endpoints import commonplayerinfo"
   ]
  },
  {
   "cell_type": "code",
   "execution_count": null,
   "id": "2ffc01ef-f396-4ed2-b823-bbbfe811b116",
   "metadata": {},
   "outputs": [],
   "source": [
    "common_player = commonplayerinfo.CommonPlayerInfo(201142)\n",
    "common_player_data = json.loads(common_player.get_json())\n",
    "team_id = common_player_data['resultSets'][0]['rowSet'][0][18]\n",
    "print(team_id)"
   ]
  },
  {
   "cell_type": "code",
   "execution_count": null,
   "id": "5abbe799-cd6f-4c9e-aaf1-3d4922856d33",
   "metadata": {},
   "outputs": [],
   "source": [
    "# Read in information for all players\n",
    "all_players = players.get_players()\n",
    "print(all_players[1081])"
   ]
  },
  {
   "cell_type": "code",
   "execution_count": null,
   "id": "de472712-120e-4b10-a0c5-2b26339ab5aa",
   "metadata": {},
   "outputs": [],
   "source": [
    "#Find the year every player retired\n",
    "#CommonPlayerInfo is an endpoint with player data such as retiring year, position, team and a lot more\n",
    "for i in range(100,120):\n",
    "    common_player = 201142.CommonPlayerInfo(all_players[i]['id'])\n",
    "    common_player_data = json.loads(common_player.get_json())\n",
    "    #Filter out all players that retired before 1978\n",
    "    if common_player_data['resultSets'][0]['rowSet'][0][25]>2000:\n",
    "        player_dict = {\n",
    "            'id': all_players[i]['id'],\n",
    "            'full_name': all_players[i]['full_name'],\n",
    "            'position': common_player_data['resultSets'][0]['rowSet'][0][15],\n",
    "            'team_id': common_player_data['resultSets'][0]['rowSet'][0][18]\n",
    "        }\n",
    "        player_df = player_df.append(player_dict, ignore_index = True)"
   ]
  },
  {
   "cell_type": "code",
   "execution_count": null,
   "id": "0a5e0426-818c-4a63-bf04-0a2812f447c1",
   "metadata": {},
   "outputs": [],
   "source": [
    "#Write file out to CSV file\n",
    "player_df.to_csv(\"player_info.csv\", index=False, header=True)"
   ]
  },
  {
   "cell_type": "code",
   "execution_count": null,
   "id": "92c3f4c0-ffa6-486c-9e21-3abe963d8e97",
   "metadata": {},
   "outputs": [],
   "source": [
    "# Find the team the player was on that year \n",
    "player_info = playerdashboardbyyearoveryear.PlayerDashboardByYearOverYear(\n",
    "            player_id = 203518,\n",
    "            season = '2016-17',\n",
    "            season_type_playoffs = 'Regular Season')"
   ]
  },
  {
   "cell_type": "code",
   "execution_count": null,
   "id": "1b806b15-b446-43cb-b00f-f9e0e4977fb4",
   "metadata": {},
   "outputs": [],
   "source": [
    "#Convert object to dictionary\n",
    "player_data = json.loads(player_info.get_json())\n",
    "#print(player_data)"
   ]
  }
 ],
 "metadata": {
  "kernelspec": {
   "display_name": "Python 3",
   "language": "python",
   "name": "python3"
  },
  "language_info": {
   "codemirror_mode": {
    "name": "ipython",
    "version": 3
   },
   "file_extension": ".py",
   "mimetype": "text/x-python",
   "name": "python",
   "nbconvert_exporter": "python",
   "pygments_lexer": "ipython3",
   "version": "3.8.8"
  }
 },
 "nbformat": 4,
 "nbformat_minor": 5
}
